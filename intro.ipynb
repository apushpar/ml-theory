{
 "cells": [
  {
   "cell_type": "markdown",
   "metadata": {},
   "source": [
    "#### Reference playlist: https://www.youtube.com/playlist?list=PLnvKubj2-I2LhIibS8TOGC42xsD3-liux\n",
    "#### MIT Artifical Intelligence course 6.034\n",
    "#### Lecture 1: Introduction and Scope\n",
    "#### video: https://www.youtube.com/watch?v=TjZBTDzGeGg&index=3&list=PLnvKubj2-I2LhIibS8TOGC42xsD3-liux&t=0s"
   ]
  },
  {
   "cell_type": "markdown",
   "metadata": {},
   "source": [
    "### Simple Vs Trivial\n",
    "-  Trivial makes it seem like the simple idea is worth less\n",
    "-  Simple ideas can be powerful"
   ]
  },
  {
   "cell_type": "markdown",
   "metadata": {},
   "source": [
    "### Lecture 2: Goal Trees and Problem Solving\n",
    "#### video: https://www.youtube.com/watch?v=PNKj529yY5c&list=PLnvKubj2-I2LhIibS8TOGC42xsD3-liux&index=3"
   ]
  },
  {
   "cell_type": "markdown",
   "metadata": {},
   "source": [
    "-  problem reduction\n"
   ]
  },
  {
   "cell_type": "code",
   "execution_count": null,
   "metadata": {},
   "outputs": [],
   "source": []
  }
 ],
 "metadata": {
  "kernelspec": {
   "display_name": "Python [conda env:py27]",
   "language": "python",
   "name": "conda-env-py27-py"
  },
  "language_info": {
   "codemirror_mode": {
    "name": "ipython",
    "version": 2
   },
   "file_extension": ".py",
   "mimetype": "text/x-python",
   "name": "python",
   "nbconvert_exporter": "python",
   "pygments_lexer": "ipython2",
   "version": "2.7.15"
  }
 },
 "nbformat": 4,
 "nbformat_minor": 2
}
